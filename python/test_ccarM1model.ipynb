{
 "cells": [
  {
   "cell_type": "markdown",
   "metadata": {},
   "source": [
    "# Test CCAT M5 Model"
   ]
  },
  {
   "cell_type": "code",
   "execution_count": 1,
   "metadata": {},
   "outputs": [],
   "source": [
    "import torch as torch\n",
    "from torch.utils.data import *\n",
    "import torch.nn.functional as F\n",
    "import numpy as np\n",
    "from os import path\n",
    "from ccarM7model import *\n",
    "from tqdm import tqdm, trange, tqdm_notebook\n",
    "from sklearn.metrics import roc_curve, auc, roc_auc_score\n",
    "\n",
    "import matplotlib.pyplot as plt\n",
    "%matplotlib inline"
   ]
  },
  {
   "cell_type": "code",
   "execution_count": 2,
   "metadata": {},
   "outputs": [],
   "source": [
    "TEST_PATH = '/home/user/notebooks/data/test'\n",
    "MODEL_PATH = '/home/user/notebooks/data/model/ccarM7/20190831_201031'\n",
    "MODEL_SAVED = MODEL_PATH + '/ccarM7.pth'"
   ]
  },
  {
   "cell_type": "markdown",
   "metadata": {},
   "source": [
    "## Plot Loss Curves"
   ]
  },
  {
   "cell_type": "code",
   "execution_count": 3,
   "metadata": {},
   "outputs": [],
   "source": [
    "checkpoint = torch.load(MODEL_SAVED)"
   ]
  },
  {
   "cell_type": "code",
   "execution_count": 4,
   "metadata": {},
   "outputs": [
    {
     "data": {
      "image/png": "[encoded data removed]",
      "text/plain": [
       "<Figure size 360x288 with 1 Axes>"
      ]
     },
     "metadata": {
      "needs_background": "light"
     },
     "output_type": "display_data"
    }
   ],
   "source": [
    "plt.figure(1, figsize=[5, 4])\n",
    "plt.plot(np.log(checkpoint['train_losses']), label='Train')\n",
    "plt.plot(np.log(checkpoint['valid_losses']), label='Valid')\n",
    "plt.xlabel(\"Epochs\")\n",
    "plt.ylabel('Mean BCE - log scale')\n",
    "plt.legend(loc='best') \n",
    "plt.title('Training loss - Macro Scenario M5 (small)')\n",
    "plt.savefig(MODEL_PATH+'/loss.png', dpi=200)"
   ]
  },
  {
   "cell_type": "markdown",
   "metadata": {},
   "source": [
    "## Test Data"
   ]
  },
  {
   "cell_type": "code",
   "execution_count": 5,
   "metadata": {},
   "outputs": [
    {
     "name": "stderr",
     "output_type": "stream",
     "text": [
      "Loading: /home/user/notebooks/data/test/fnm_input_seq_0.90.npy:   0%|          | 0/5 [00:00<?, ?it/s]"
     ]
    },
    {
     "name": "stdout",
     "output_type": "stream",
     "text": [
      "Acquisition: /home/user/notebooks/data/test/fnm_input_acq.npy\n",
      "Sequence: /home/user/notebooks/data/test/fnm_input_seq_*.npy\n",
      "Index to Sequence Index: /home/user/notebooks/data/test/fnm_input_idx_to_seq.npy\n",
      "Macros: /home/user/notebooks/data/test/fred_norm.npy\n",
      "YYYYMM to Index: /home/user/notebooks/data/test/ym2idx.pickle\n",
      "loading seq_chunk\n"
     ]
    },
    {
     "name": "stderr",
     "output_type": "stream",
     "text": [
      "Loading: /home/user/notebooks/data/test/fnm_input_seq_0.98.npy: 100%|██████████| 5/5 [00:03<00:00,  1.63it/s]\n"
     ]
    }
   ],
   "source": [
    "t_acq, t_idx_to_seq, t_seq, t_macros, t_ym2idx = load_data(TEST_PATH, True, False)"
   ]
  },
  {
   "cell_type": "code",
   "execution_count": 6,
   "metadata": {},
   "outputs": [],
   "source": [
    "BATCH_SIZE = 2048\n",
    "NUM_WORKERS = 6"
   ]
  },
  {
   "cell_type": "code",
   "execution_count": 7,
   "metadata": {},
   "outputs": [
    {
     "name": "stdout",
     "output_type": "stream",
     "text": [
      "Initial acq: 2,541,605\n",
      "Non-short acq: 2,541,159\n"
     ]
    }
   ],
   "source": [
    "test_ds = FNMCCARDataset(t_acq, t_idx_to_seq, t_seq, t_macros, t_ym2idx, 12, 0)"
   ]
  },
  {
   "cell_type": "code",
   "execution_count": 8,
   "metadata": {},
   "outputs": [],
   "source": [
    "testDL = DataLoader(test_ds, batch_size=BATCH_SIZE, shuffle = True, \\\n",
    "        collate_fn=paddingCollator, num_workers=NUM_WORKERS, pin_memory=True)"
   ]
  },
  {
   "cell_type": "code",
   "execution_count": 12,
   "metadata": {},
   "outputs": [],
   "source": [
    "model_params = {\n",
    "        'seq_n_features': FNMCCARDataset.seq_n_features,\n",
    "        'encoder' : {\n",
    "            'emb_acq_dims' : [\n",
    "                ('state_id',   55, 5), \n",
    "                ('purpose_id', 5, 2),\n",
    "                ('mi_type_id', 4, 2),\n",
    "                ('occupancy_status_id', 4, 2), \n",
    "                ('product_type_id', 2, 2), \n",
    "                ('property_type_id', 6, 2), \n",
    "                ('seller_id', 95, 6), \n",
    "                ('zip3_id', 1001, 26)\n",
    "            ],\n",
    "            'emb_seq_dims' : [\n",
    "                ('yyyymm', 219, 25), \n",
    "                ('msa_id', 407, 26), \n",
    "                ('servicer_id', 46, 5)\n",
    "            ],\n",
    "            'lstm' : {\n",
    "                'lstm_size': 600,\n",
    "                'lstm_layers': 3,\n",
    "                'lstm_dropout': 0.2\n",
    "            },\n",
    "            'lin_block' : [\n",
    "                (200, 0.2)\n",
    "            ]\n",
    "        },\n",
    "        'decoder' : {\n",
    "            'input_size': 200,\n",
    "            'pre_lin_conf': [\n",
    "                (125, 0.2)\n",
    "            ],\n",
    "            'lstm' : {\n",
    "                'input_size' : 148, # 50 + 9 + macros\n",
    "                'lstm_size': 200,\n",
    "                'lstm_layers': 3,\n",
    "                'lstm_dropout': 0.2\n",
    "            },\n",
    "            'post_lin_conf' : [\n",
    "                (300, 0.2),\n",
    "                (200, 0.2)\n",
    "            ]\n",
    "        }\n",
    "    }"
   ]
  },
  {
   "cell_type": "code",
   "execution_count": 15,
   "metadata": {
    "jupyter": {
     "source_hidden": true
    }
   },
   "outputs": [],
   "source": [
    "# version - shmersion\n",
    "model_params = {\n",
    "    'seq_n_features': FNMCCARDataset.seq_n_features,\n",
    "    'encoder' : {\n",
    "        'emb_acq_dims' : [('state_id',   55, 25), \n",
    "                        ('purpose_id', 5, 2),\n",
    "                        ('mi_type_id', 4, 2),\n",
    "                        ('occupancy_status_id', 4, 2), \n",
    "                        ('product_type_id', 2, 2), \n",
    "                        ('property_type_id', 6, 2), \n",
    "                        ('seller_id', 95, 40), \n",
    "                        ('zip3_id', 1001, 50)],\n",
    "        'emb_seq_dims' : [('yyyymm', 219, 50), \n",
    "                        ('msa_id', 407, 50), \n",
    "                        ('servicer_id', 46, 23)],\n",
    "        'lstm' : {\n",
    "            'lstm_size': 300,\n",
    "            'lstm_layers': 5,\n",
    "            'lstm_dropout': 0.2\n",
    "        },\n",
    "        'lin_block' : [\n",
    "            (200, 0.2),\n",
    "            (100, 0.2),\n",
    "            (50,  0.2)\n",
    "        ]\n",
    "    },\n",
    "    'decoder' : {\n",
    "        'input_size': 50,\n",
    "        'pre_lin_conf': [\n",
    "            (50, 0.2)\n",
    "        ],\n",
    "        'lstm' : {\n",
    "            'input_size' : 73, # 50 + 9 + macros\n",
    "            'lstm_size': 100,\n",
    "            'lstm_layers': 5,\n",
    "            'lstm_dropout': 0.2\n",
    "        },\n",
    "        'post_lin_conf' : [\n",
    "            (50, 0.1),\n",
    "            (9, 0.1) # DLQ is from 0 to 8\n",
    "        ]\n",
    "    }\n",
    "}"
   ]
  },
  {
   "cell_type": "code",
   "execution_count": 13,
   "metadata": {},
   "outputs": [],
   "source": [
    "model = makeModel(model_params)\n",
    "loss_function = nn.CrossEntropyLoss(reduction='sum')"
   ]
  },
  {
   "cell_type": "code",
   "execution_count": 14,
   "metadata": {},
   "outputs": [
    {
     "name": "stdout",
     "output_type": "stream",
     "text": [
      "Using device: cuda\n",
      "Loading model checkpoint: /home/user/notebooks/data/model/ccarM7/20190831_201031/ccarM7.pth\n",
      "Training on 2 GPUs\n"
     ]
    }
   ],
   "source": [
    "fitCtx = TrainingContext(\n",
    "    MODEL_SAVED, \n",
    "    model, \n",
    "    loss_function,\n",
    "    testDL, \n",
    "    testDL,\n",
    "    10,\n",
    "    10\n",
    ")\n",
    "\n",
    "fitCtx.useGPU(True)\n",
    "checkpoint_epoch = fitCtx.loadModel()\n",
    "fitCtx.makeParallel(True)"
   ]
  },
  {
   "cell_type": "code",
   "execution_count": 15,
   "metadata": {},
   "outputs": [],
   "source": [
    "target_vec = np.zeros((len(test_ds), 12), dtype=np.int32)\n",
    "target_hat_mat = np.zeros((len(test_ds), 9, 12), dtype=np.float32)\n",
    "last_dlq = -1*np.ones((len(test_ds)))\n",
    "losses = []"
   ]
  },
  {
   "cell_type": "code",
   "execution_count": 16,
   "metadata": {},
   "outputs": [
    {
     "name": "stderr",
     "output_type": "stream",
     "text": [
      "100%|██████████| 1241/1241 [10:22<00:00,  2.13it/s]\n"
     ]
    }
   ],
   "source": [
    "fitCtx.model.eval()\n",
    "with torch.no_grad():\n",
    "    tq = tqdm(testDL)\n",
    "    for bidx, (seq, seq_len, ymd, acq, macro_pred, target) in enumerate(tq):\n",
    "        target_vec[bidx*BATCH_SIZE:(bidx+1)*BATCH_SIZE, :] = target.detach().cpu().numpy()\n",
    "        last_dlq[bidx*BATCH_SIZE:(bidx+1)*BATCH_SIZE] = np.argmax(seq[:, -1, -9:].detach().cpu().numpy())\n",
    "\n",
    "        target_hat = fitCtx.model(seq, seq_len, ymd, acq, macro_pred)\n",
    "        target = target.to(target_hat.device)\n",
    "        loss = loss_function(target_hat, target)\n",
    "        losses.append(loss.item())\n",
    "        \n",
    "        target_hat = F.softmax(target_hat, dim=1)\n",
    "        target_hat_mat[bidx*BATCH_SIZE:(bidx+1)*BATCH_SIZE, :, :] = target_hat.detach().cpu().numpy()"
   ]
  },
  {
   "cell_type": "code",
   "execution_count": 17,
   "metadata": {},
   "outputs": [
    {
     "data": {
      "text/plain": [
       "1.0261085211126004"
      ]
     },
     "execution_count": 17,
     "metadata": {},
     "output_type": "execute_result"
    }
   ],
   "source": [
    "np.mean(losses)/testDL.batch_size"
   ]
  },
  {
   "cell_type": "markdown",
   "metadata": {},
   "source": [
    "## Build ROC Curve"
   ]
  },
  {
   "cell_type": "code",
   "execution_count": 18,
   "metadata": {},
   "outputs": [],
   "source": [
    "from sklearn.metrics import roc_curve, auc\n",
    "from sklearn.preprocessing import label_binarize"
   ]
  },
  {
   "cell_type": "markdown",
   "metadata": {},
   "source": [
    "### Calculate corresponding 1 year default rate"
   ]
  },
  {
   "cell_type": "code",
   "execution_count": 19,
   "metadata": {},
   "outputs": [],
   "source": [
    "def_score = np.sum(target_hat_mat[:, 7:, :], axis=1)"
   ]
  },
  {
   "cell_type": "code",
   "execution_count": 20,
   "metadata": {},
   "outputs": [
    {
     "data": {
      "image/png": "[encoded data removed]",
      "text/plain": [
       "<Figure size 396x230.4 with 1 Axes>"
      ]
     },
     "metadata": {
      "needs_background": "light"
     },
     "output_type": "display_data"
    }
   ],
   "source": [
    "plt.figure(1, figsize=[5.5, 3.2])\n",
    "plt.plot(np.mean(def_score, axis=0), label='Mean')\n",
    "plt.xlabel('Months into the future')\n",
    "plt.ylabel('PD')\n",
    "plt.title('Macro Scenario M5 - PD at Specific Month')\n",
    "plt.legend(loc='best') \n",
    "plt.savefig(MODEL_PATH+'/mean_pd.png', dpi=100)"
   ]
  },
  {
   "cell_type": "code",
   "execution_count": 22,
   "metadata": {},
   "outputs": [],
   "source": [
    "def1y_score = 1-np.prod(1-def_score, axis=1)\n",
    "def1y_target = 1*(np.max(target_vec, axis=1) >= 7)"
   ]
  },
  {
   "cell_type": "code",
   "execution_count": 23,
   "metadata": {},
   "outputs": [
    {
     "data": {
      "image/png": "[encoded data removed]",
      "text/plain": [
       "<Figure size 432x432 with 1 Axes>"
      ]
     },
     "metadata": {
      "needs_background": "light"
     },
     "output_type": "display_data"
    }
   ],
   "source": [
    "fpr = dict()\n",
    "tpr = dict()\n",
    "roc_auc = dict()\n",
    "plt.figure(1, figsize=[6, 6])\n",
    "plt.plot([0, 1], [0, 1], 'k--')\n",
    "for dlq in range(7):\n",
    "    idx = np.where(last_dlq==dlq)\n",
    "    fpr[dlq], tpr[dlq], _ = roc_curve(def1y_target[idx], def1y_score[idx])\n",
    "    roc_auc[dlq] = auc(fpr[dlq], tpr[dlq])\n",
    "    plt.plot(fpr[dlq], tpr[dlq], label='Last DLQ={}, AUC={:.2f}%'.format(dlq, roc_auc[dlq]*100))\n",
    "fpr[-1], tpr[-1], _ = roc_curve(def1y_target, def1y_score)\n",
    "roc_auc[-1] = auc(fpr[-1], tpr[-1])\n",
    "plt.plot(fpr[-1], tpr[-1], label='Last DLQ=A, AUC={:.2f}%'.format(roc_auc[-1]*100))\n",
    "plt.xlabel('False positive rate')\n",
    "plt.ylabel('True positive rate')\n",
    "plt.title('Macro Scenario M1 - Def1y ROC curve')\n",
    "plt.legend(loc='best')\n",
    "plt.savefig(MODEL_PATH+'/def1y_roc.png', dpi=200)"
   ]
  },
  {
   "cell_type": "code",
   "execution_count": null,
   "metadata": {},
   "outputs": [],
   "source": [
    "t = 0\n",
    "fig, ax = plt.subplots(2, 6, sharex='col', sharey='row')\n",
    "fig.set_size_inches(24, 6.5)\n",
    "for i in range(2):\n",
    "    for j in range(6):\n",
    "        ax[i, j].plot([0, 1], [0, 1], 'k--')\n",
    "        for q in range(0, 8):\n",
    "            dlq_label = 1*(target_vec[:, t]==q)\n",
    "            fpr, tpr, _ = roc_curve(dlq_label, target_hat_mat[:, q, t])\n",
    "            roc_auc = auc(fpr, tpr)\n",
    "            ax[i, j].plot(fpr, tpr, label='DLQ={}, AUC={:.2f}%'.format(dlq, roc_auc*100))\n",
    "            #ax[i, j].text(\"T={}\".format(t+1))\n",
    "        t += 1"
   ]
  },
  {
   "cell_type": "code",
   "execution_count": 27,
   "metadata": {},
   "outputs": [
    {
     "data": {
      "text/plain": [
       "array([0, 0, 0, 0, 0, 0, 0, 0, 0, 0, 0, 0], dtype=int32)"
      ]
     },
     "execution_count": 27,
     "metadata": {},
     "output_type": "execute_result"
    }
   ],
   "source": [
    "target_vec[0, :]"
   ]
  },
  {
   "cell_type": "code",
   "execution_count": 30,
   "metadata": {},
   "outputs": [
    {
     "data": {
      "text/plain": [
       "array([7, 8])"
      ]
     },
     "execution_count": 30,
     "metadata": {},
     "output_type": "execute_result"
    }
   ],
   "source": [
    "np.arange(0, 9)[7:]"
   ]
  },
  {
   "cell_type": "code",
   "execution_count": 33,
   "metadata": {},
   "outputs": [
    {
     "data": {
      "text/plain": [
       "(2541159, 12)"
      ]
     },
     "execution_count": 33,
     "metadata": {},
     "output_type": "execute_result"
    }
   ],
   "source": [
    "def_score.shape"
   ]
  },
  {
   "cell_type": "code",
   "execution_count": 20,
   "metadata": {},
   "outputs": [],
   "source": [
    "x = torch.Tensor([9.72878714e-01, 9.06249865e-03, 2.04512980e-03, \n",
    "                  9.42417745e-04, 6.06711347e-04, 4.44252668e-04, \n",
    "                  3.18424257e-04, 1.22132591e-03, 1.24805256e-02])"
   ]
  },
  {
   "cell_type": "code",
   "execution_count": 22,
   "metadata": {},
   "outputs": [
    {
     "name": "stderr",
     "output_type": "stream",
     "text": [
      "/opt/conda/lib/python3.6/site-packages/ipykernel_launcher.py:1: UserWarning: Implicit dimension choice for softmax has been deprecated. Change the call to include dim=X as an argument.\n",
      "  \"\"\"Entry point for launching an IPython kernel.\n"
     ]
    },
    {
     "data": {
      "text/plain": [
       "tensor([0.2479, 0.0945, 0.0939, 0.0938, 0.0938, 0.0937, 0.0937, 0.0938, 0.0949],\n",
       "       dtype=torch.float64)"
      ]
     },
     "execution_count": 22,
     "metadata": {},
     "output_type": "execute_result"
    }
   ],
   "source": [
    "F.softmax(x, dtype=torch.float64)"
   ]
  },
  {
   "cell_type": "code",
   "execution_count": 2,
   "metadata": {},
   "outputs": [
    {
     "data": {
      "text/plain": [
       "2.5"
      ]
     },
     "execution_count": 2,
     "metadata": {},
     "output_type": "execute_result"
    }
   ],
   "source": [
    "import numpy as np\n",
    "np.mean([1, 2, 3, 4])"
   ]
  },
  {
   "cell_type": "code",
   "execution_count": null,
   "metadata": {},
   "outputs": [],
   "source": []
  }
 ],
 "metadata": {
  "kernelspec": {
   "display_name": "Python 3",
   "language": "python",
   "name": "python3"
  },
  "language_info": {
   "codemirror_mode": {
    "name": "ipython",
    "version": 3
   },
   "file_extension": ".py",
   "mimetype": "text/x-python",
   "name": "python",
   "nbconvert_exporter": "python",
   "pygments_lexer": "ipython3",
   "version": "3.6.8"
  }
 },
 "nbformat": 4,
 "nbformat_minor": 4
}
